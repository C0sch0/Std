{
 "cells": [
  {
   "cell_type": "code",
   "execution_count": null,
   "metadata": {
    "collapsed": false,
    "deletable": true,
    "editable": true
   },
   "outputs": [],
   "source": [
    "import pandas\n",
    "import numpy as np\n",
    "from collections import Counter\n",
    "from sklearn.linear_model import LinearRegression as LR\n",
    "from sklearn.ensemble import RandomForestRegressor\n",
    "from sklearn.metrics import r2_score\n",
    "from sklearn.metrics import mean_squared_error\n",
    "import matplotlib.pyplot as plt"
   ]
  },
  {
   "cell_type": "markdown",
   "metadata": {
    "deletable": true,
    "editable": true
   },
   "source": [
    "Cargo los datos a memoria de la tabla convertida a csv. Leer excel es más lento."
   ]
  },
  {
   "cell_type": "code",
   "execution_count": null,
   "metadata": {
    "collapsed": false,
    "deletable": true,
    "editable": true
   },
   "outputs": [],
   "source": [
    "data = pandas.read_csv('Proyecto_PreciosPyme_Base1.csv',header=0,sep=';',low_memory=False)"
   ]
  },
  {
   "cell_type": "markdown",
   "metadata": {
    "deletable": true,
    "editable": true
   },
   "source": [
    "Parte de los datos no tienen registros completos.\n",
    "Primero elimino los registros que tienen el campo \"% Descuento% igual a cero, ya que la tasa entregada fue de cero. Son 820 registros por lo que no impacta la base de datos. \n"
   ]
  },
  {
   "cell_type": "code",
   "execution_count": null,
   "metadata": {
    "collapsed": false,
    "deletable": true,
    "editable": true
   },
   "outputs": [],
   "source": [
    "data = data.loc[data['% Descuento']!='Err:512']\n",
    "data = data.loc[data['MON PROM']!='Err:512']"
   ]
  },
  {
   "cell_type": "markdown",
   "metadata": {
    "deletable": true,
    "editable": true
   },
   "source": [
    "Cambio \"Var pos neg\" a variable numerica para que pueda ser operado fácilmente."
   ]
  },
  {
   "cell_type": "code",
   "execution_count": 4,
   "metadata": {
    "collapsed": false,
    "deletable": true,
    "editable": true
   },
   "outputs": [],
   "source": [
    "data['Var pos neg'].replace('POSIT',1,inplace=True)\n",
    "data['Var pos neg'].replace('NEG',-1,inplace=True)"
   ]
  },
  {
   "cell_type": "markdown",
   "metadata": {
    "deletable": true,
    "editable": true
   },
   "source": [
    "El objetivo es una regresión, nombres e identificadores no son útiles, por lo que se sacan de la base de datos.\n",
    "\n",
    "Queda probar con:\n",
    "- 'nom_cli_cat' para ver la diferencia entre Negocio y Pyme.\n",
    "- \"\" para el tipo de Pyme, como Negocio, Pyme1 o Pyme 2.\n",
    "- 'nom_sub_cat' para el rubro asociado.\n",
    "\n",
    "- 'zona_nueva' para incluír la información geográfica.\n",
    "\n",
    "- 'cargo_ejec_gest_rrhh' para incluír la información del ejecutivo.\n",
    "\n",
    "- 'id_prod_conc' para incluír información sobre el tipo de producto."
   ]
  },
  {
   "cell_type": "markdown",
   "metadata": {
    "deletable": true,
    "editable": true
   },
   "source": [
    "Elimino las columnas sin información útil o redundante."
   ]
  },
  {
   "cell_type": "code",
   "execution_count": 5,
   "metadata": {
    "collapsed": false,
    "deletable": true,
    "editable": true
   },
   "outputs": [],
   "source": [
    "col_del = ['Periodo','fec_info','rut_clie','nom_clie','cli_cat','cli_cat_sub',\n",
    "          'fec_otorg','Zonal','grp_suc','cod_ctr','rut_ejec_gest','nom_ejec_gest',\n",
    "           'cargo_conc_gest','suc_gest_ejec','nom_suc_gest','zona_nueva_gest','id_orden_prod',\n",
    "           'plazo','tramo','tipo_flujo','fecha_otorgamiento','prod_gsc','peso_ctr','plan','concepto_especifico',\n",
    "           'GLOSA CODIGO ACTIVIDAD BANCO','GLOSA ACTIVIDAD CIIU','RUT_CORTO',\n",
    "           'Octubre 2015_IND_CTA_CTA','Noviembre 2015_IND_CTA_CTA','Diciembre 2015_IND_CTA_CTA','Enero 2016_IND_CTA_CTA',\n",
    "           'Febrero 2016_IND_CTA_CTA','Marzo 2016_IND_CTA_CTA','Abril 2016_IND_CTA_CTA','Mayo 2016_IND_CTA_CTA','Junio 2016_IND_CTA_CTA',\n",
    "           'Julio 2016_IND_CTA_CTA','Agosto 2016_IND_CTA_CTA','FAM_201609_IND_CTA_CTA','FAM_201610_IND_CTA_CTA','FAM_201611_IND_CTA_CTA',\n",
    "           'FAM_201612_IND_CTA_CTA','FAM_201701_IND_CTA_CTA','FAM_201702_IND_CTA_CTA',\n",
    "          'Tramo Tasa','Tramo ACTSM1','Tramo ACTSM2','Tramo ACTSM3','Tramo ACTSM4','Tramo ACTSM5','Tramo ACTSM6','Tramo ACTSM7',\n",
    "           'Tramo ACTSM8','Tramo ACTSM9','Tramo ACTSM10','Tramo ACTSM11','Tramo ACTSM12','Tramo ACTSM13','Tramo ACTSM14','Tramo ACTSM15',\n",
    "           'Tramo ACTSM16','Tramo ACTSM17','CONCSMACT','Media_SM','Var pos neg'\n",
    "           ,'opers','dia_otorg','cta_actual','extin_cdto',\n",
    "           'id_plazo','id_tramo','id_tasa','grp','tasa_0',\n",
    "           'modelo_id_riesgo','perfil_riesgo','ajuste_max','descuento','plazo_meses',\n",
    "          'Marca_Conta','Marca_Campaña','Marca_Renegociados','Marca_Alivio','Marca_Carterizado','MarcaCanal','MarcaFFVV','NOM_GRP'\n",
    "           ,'% Descuento'\n",
    "           ,'nom_cli_cat','id_univ','nom_sub_cat','zona_nueva','cargo_ejec_gest_rrhh','id_prod_conc'\n",
    "]\n",
    "\n",
    "data.drop(col_del,1,inplace=True)"
   ]
  },
  {
   "cell_type": "markdown",
   "metadata": {
    "deletable": true,
    "editable": true
   },
   "source": [
    "Elimino las columnas que no tienen la informacion temporal completa. Notar que fue eliminada para todos los registros."
   ]
  },
  {
   "cell_type": "code",
   "execution_count": 6,
   "metadata": {
    "collapsed": false,
    "deletable": true,
    "editable": true
   },
   "outputs": [],
   "source": [
    "del_act_desc_sm = ['FAM_201609_LdN_ACT_Descubiertos_SM','FAM_201610_LdN_ACT_Descubiertos_SM',\n",
    "                   'FAM_201611_LdN_ACT_Descubiertos_SM','FAM_201612_LdN_ACT_Descubiertos_SM',\n",
    "                   'FAM_201701_LdN_ACT_Descubiertos_SM','FAM_201702_LdN_ACT_Descubiertos_SM']\n",
    "del_ldn_pas_mg = ['Junio 2016_LdN_PAS_MG','Julio 2016_LdN_PAS_MG','Agosto 2016_LdN_PAS_MG',\n",
    "                  'FAM_201609_LdN_PAS_MG','FAM_201610_LdN_PAS_MG','FAM_201611_LdN_PAS_MG',\n",
    "                  'FAM_201612_LdN_PAS_MG','FAM_201701_LdN_PAS_MG','FAM_201702_LdN_PAS_MG']\n",
    "del_ldn_resto_sm = ['Octubre 2015_LdN_ACT_RESTO_CREDITO_SM','Noviembre 2015_LdN_ACT_RESTO_CREDITO_SM',\n",
    "                    'Diciembre 2015_LdN_ACT_RESTO_CREDITO_SM','Enero 2016_LdN_ACT_RESTO_CREDITO_SM',\n",
    "                    'Junio 2016_LdN_ACT_RESTO_CREDITO_SM','Julio 2016_LdN_ACT_RESTO_CREDITO_SM',\n",
    "                    'Agosto 2016_LdN_ACT_RESTO_CREDITO_SM','FAM_201609_LdN_ACT_RESTO_CREDITO_SM',\n",
    "                    'FAM_201610_LdN_ACT_RESTO_CREDITO_SM','FAM_201611_LdN_ACT_RESTO_CREDITO_SM',\n",
    "                    'FAM_201612_LdN_ACT_RESTO_CREDITO_SM','FAM_201701_LdN_ACT_RESTO_CREDITO_SM',\n",
    "                    'FAM_201702_LdN_ACT_RESTO_CREDITO_SM']\n",
    "del_ldn_resto_mg = ['Febrero 2016_LdN_ACT_RESTO_CREDITO_MG','Marzo 2016_LdN_ACT_RESTO_CREDITO_MG','Junio 2016_LdN_ACT_RESTO_CREDITO_MG',\n",
    "                    'Julio 2016_LdN_ACT_RESTO_CREDITO_MG','Agosto 2016_LdN_ACT_RESTO_CREDITO_MG','FAM_201609_LdN_ACT_RESTO_CREDITO_MG',\n",
    "                    'FAM_201610_LdN_ACT_RESTO_CREDITO_MG','FAM_201611_LdN_ACT_RESTO_CREDITO_MG','FAM_201612_LdN_ACT_RESTO_CREDITO_MG',\n",
    "                    'FAM_201701_LdN_ACT_RESTO_CREDITO_MG','FAM_201702_LdN_ACT_RESTO_CREDITO_MG']\n",
    "del_ldn_act_mg = ['Junio 2016_LdN_ACT_MG','Julio 2016_LdN_ACT_MG','Agosto 2016_LdN_ACT_MG',\n",
    "                  'FAM_201609_LdN_ACT_MG','FAM_201610_LdN_ACT_MG','FAM_201611_LdN_ACT_MG',\n",
    "                  'FAM_201612_LdN_ACT_MG','FAM_201701_LdN_ACT_MG','FAM_201702_LdN_ACT_MG']\n",
    "del_ldn_act_fact_mg = ['FAM_201609_LdN_ACT_Factoring_MG','FAM_201610_LdN_ACT_Factoring_MG','FAM_201611_LdN_ACT_Factoring_MG',\n",
    "                       'FAM_201612_LdN_ACT_Factoring_MG','FAM_201701_LdN_ACT_Factoring_MG','FAM_201702_LdN_ACT_Factoring_MG']\n",
    "del_ldn_act_desc_mg = ['FAM_201609_LdN_ACT_Descubiertos_MG','FAM_201610_LdN_ACT_Descubiertos_MG','FAM_201611_LdN_ACT_Descubiertos_MG',\n",
    "                       'FAM_201612_LdN_ACT_Descubiertos_MG','FAM_201701_LdN_ACT_Descubiertos_MG','FAM_201702_LdN_ACT_Descubiertos_MG']\n",
    "del_ldn_act_fact_sm = ['FAM_201609_LdN_ACT_Factoring_SM','FAM_201610_LdN_ACT_Factoring_SM','FAM_201611_LdN_ACT_Factoring_SM',\n",
    "                       'FAM_201612_LdN_ACT_Factoring_SM','FAM_201701_LdN_ACT_Factoring_SM','FAM_201702_LdN_ACT_Factoring_SM']\n",
    "\n",
    "del_time_series = [del_act_desc_sm,del_ldn_pas_mg,del_ldn_resto_sm,del_ldn_resto_mg,del_ldn_act_mg,\n",
    "                  del_ldn_act_fact_mg,del_ldn_act_desc_mg,del_ldn_act_fact_sm]\n",
    "\n",
    "for i in del_time_series:\n",
    "    data.drop(i,1,inplace=True)"
   ]
  },
  {
   "cell_type": "markdown",
   "metadata": {
    "deletable": true,
    "editable": true
   },
   "source": [
    "Una forma de proceder es usar sólo los préstamos en moneda local. En caso contrario incluir los créditos en uf o en moneda extranjera multiplicado por el monto. \n",
    "\n",
    "Para mantener la simplicidad del modelo, sólo se trabajará con moneda local."
   ]
  },
  {
   "cell_type": "code",
   "execution_count": 7,
   "metadata": {
    "collapsed": false,
    "deletable": true,
    "editable": true
   },
   "outputs": [],
   "source": [
    "data_mx = data.loc[data['Tipo_conta']=='Mx']\n",
    "data_uf = data.loc[data['Tipo_conta']=='uf']\n",
    "data_nr = data.loc[data['Tipo_conta']=='nr']"
   ]
  },
  {
   "cell_type": "markdown",
   "metadata": {
    "deletable": true,
    "editable": true
   },
   "source": [
    "Como los datos de mx son 8800 y los de uf 9800, comparados con los 89000 de los créditos en pesos, se pueden remover sin alterar sustancialmente la base de datos. Se deja pendiente para un modelo más general.\n",
    "\n",
    "Ahora, elimino las variables relacionadas con el tipo de moneda y el cambio."
   ]
  },
  {
   "cell_type": "code",
   "execution_count": 8,
   "metadata": {
    "collapsed": false,
    "deletable": true,
    "editable": true
   },
   "outputs": [],
   "source": [
    "data_nr = data_nr.drop(['Tipo_conta','tipo_camb_reaj','tipo_camb_mx'],1)"
   ]
  },
  {
   "cell_type": "markdown",
   "metadata": {
    "deletable": true,
    "editable": true
   },
   "source": [
    "## Quitar datos faltantes\n",
    "Elimino las filas que no tienen todos los valores completos."
   ]
  },
  {
   "cell_type": "code",
   "execution_count": 9,
   "metadata": {
    "collapsed": true,
    "deletable": true,
    "editable": true
   },
   "outputs": [],
   "source": [
    "data_nr.dropna(axis=0,how='any',inplace=True)"
   ]
  },
  {
   "cell_type": "markdown",
   "metadata": {
    "deletable": true,
    "editable": true
   },
   "source": [
    "Después de filtrar los datos, los casos totales son 69000."
   ]
  },
  {
   "cell_type": "markdown",
   "metadata": {
    "deletable": true,
    "editable": true
   },
   "source": [
    "## Feature creation\n",
    "\n",
    "Ahora, los valores temporales no pueden ser usados como features directamente, ya que son muchos. Además los créditos no ocurren al final, sino que a tiempos arbitrarios, por lo que no se puede asumir que se conoce el futuro. Por lo tanto se propone usar media, desviacion estandar, además de coeficientes de un ajuste lineal o cuadratico."
   ]
  },
  {
   "cell_type": "markdown",
   "metadata": {
    "deletable": true,
    "editable": true
   },
   "source": [
    "### Time series\n",
    "Los nombres de las columnas con información temporal no son estandar. Se les cambiará el formato."
   ]
  },
  {
   "cell_type": "code",
   "execution_count": 10,
   "metadata": {
    "collapsed": false,
    "deletable": true,
    "editable": true
   },
   "outputs": [],
   "source": [
    "aa = np.array(list(data_nr.columns))\n",
    "\n",
    "nme = ['MOB','LdN_ACT_SM','LdN_PAS_SM','_MON','_LdN_COMI']\n",
    "\n",
    "for n in nme:\n",
    "    ind1 = 10\n",
    "    ind2 = 2015\n",
    "    bb =aa[np.core.defchararray.find(aa,n)!=-1]\n",
    "\n",
    "\n",
    "    bb1 = bb.copy()\n",
    "    dic = {}\n",
    "    for i in range(bb.shape[0]):\n",
    "        bb1[i] = n+'_'+str(ind1).zfill(2)+'/'+str(ind2)\n",
    "        ind1 = ind1%12\n",
    "        ind1+=1\n",
    "        if(ind1==1):\n",
    "            ind2+=1\n",
    "        dic[bb[i]]=bb1[i]\n",
    "    data_nr.rename(index=str,columns=dic,inplace=True)"
   ]
  },
  {
   "cell_type": "markdown",
   "metadata": {
    "collapsed": false,
    "deletable": true,
    "editable": true
   },
   "source": [
    "#### Estadísticos de time series\n",
    "\n",
    "Los créditos se pidieron en fechas distintas, por lo que no puede considerarse todo el rango de tiempo ya que el banco no posee datos del futuro. \n",
    "\n",
    "Para abordar este problema, se calcularán estadísticos para describir la información temporal tomando en cueta los meses desde el inicio de los datos o la incorporación del cliente al banco, hasta el mes anterior al crédito.\n"
   ]
  },
  {
   "cell_type": "markdown",
   "metadata": {
    "deletable": true,
    "editable": true
   },
   "source": [
    "Índices iniciales de las series de tiempo."
   ]
  },
  {
   "cell_type": "code",
   "execution_count": 11,
   "metadata": {
    "collapsed": false,
    "deletable": true,
    "editable": true
   },
   "outputs": [],
   "source": [
    "temp1 = list(data_nr.columns)\n",
    "ini_index = [temp1.index('MOB_10/2015'),\n",
    "temp1.index('LdN_ACT_SM_10/2015'),\n",
    "temp1.index('LdN_PAS_SM_10/2015'),\n",
    "temp1.index('_MON_10/2015'),\n",
    "temp1.index('_LdN_COMI_10/2015')]\n",
    "# ,temp1.index('MON1')]"
   ]
  },
  {
   "cell_type": "code",
   "execution_count": 12,
   "metadata": {
    "collapsed": false,
    "deletable": true,
    "editable": true
   },
   "outputs": [],
   "source": [
    "intercept = []\n",
    "pendiente = []\n",
    "promedio =  []\n",
    "std_dev  =  []\n",
    "\n",
    "in_ = []\n",
    "\n",
    "data_nr_mtx = data_nr.as_matrix()\n",
    "ind_yr_otorg = temp1.index('año_otorg')\n",
    "ind_mt_otorg = temp1.index('mes_otorg')\n",
    "\n",
    "for j in range(len(nme)):\n",
    "    intercept.append([])\n",
    "    pendiente.append([])\n",
    "    promedio.append([])\n",
    "    std_dev.append([])\n",
    "    for i in range(data_nr.shape[0]):\n",
    "        yr = data_nr_mtx[i,ind_yr_otorg]\n",
    "        mt = data_nr_mtx[i,ind_mt_otorg]\n",
    "        #Si los creditos son demasiado recientes\n",
    "        if(yr==2017 and mt>=2): \n",
    "            continue\n",
    "        if(i not in in_):    \n",
    "            in_.append(i)    \n",
    "\n",
    "        lr  = LR()\n",
    "        fnd = nme[j]+'_'+str(mt).zfill(2)+'/'+str(yr)\n",
    "\n",
    "        dta = data_nr_mtx[i,ini_index[0]:temp1.index(fnd)]\n",
    "\n",
    "        mean_ = np.mean(dta)\n",
    "        std_ = np.mean(dta)\n",
    "\n",
    "        promedio[j].append(mean_)\n",
    "        std_dev[j].append(std_)\n",
    "        \n",
    "        \n",
    "        lr.fit(np.array(range(dta.shape[0])).reshape(-1,1),dta)\n",
    "        m_ = lr.coef_[0]\n",
    "        c_ = lr.intercept_\n",
    "\n",
    "        intercept[j].append(c_)\n",
    "        pendiente[j].append(m_)\n",
    "        "
   ]
  },
  {
   "cell_type": "code",
   "execution_count": 13,
   "metadata": {
    "collapsed": false,
    "deletable": true,
    "editable": true
   },
   "outputs": [],
   "source": [
    "nmes = []\n",
    "for j in range(len(nme)):\n",
    "    nmes.append([])\n",
    "    nmes[j].append(nme[j]+'_'+'Promedio')\n",
    "    nmes[j].append(nme[j]+'_'+'St_dev')\n",
    "    nmes[j].append(nme[j]+'_'+'Intercept')\n",
    "    nmes[j].append(nme[j]+'_'+'Slope')    "
   ]
  },
  {
   "cell_type": "markdown",
   "metadata": {
    "deletable": true,
    "editable": true
   },
   "source": [
    "Se eliminan los créditos recientes que no tienen suficientes datos para calcular los estadísticos. Quedan en total 55000."
   ]
  },
  {
   "cell_type": "code",
   "execution_count": 14,
   "metadata": {
    "collapsed": false,
    "deletable": true,
    "editable": true
   },
   "outputs": [],
   "source": [
    "data_nr = data_nr.iloc[in_].copy()"
   ]
  },
  {
   "cell_type": "markdown",
   "metadata": {
    "deletable": true,
    "editable": true
   },
   "source": [
    "Luego de calcular las nuevas variables, se eliminan las series de tiempo."
   ]
  },
  {
   "cell_type": "code",
   "execution_count": 15,
   "metadata": {
    "collapsed": false,
    "deletable": true,
    "editable": true
   },
   "outputs": [],
   "source": [
    "#En cada columna\n",
    "for i in temp1:\n",
    "    for j in nme:\n",
    "        if(j in i):\n",
    "            data_nr.drop(i,1,inplace=True)\n",
    "for i in data_nr.columns:            \n",
    "    #Por ahora elimino MON\n",
    "    if('MON' in i):\n",
    "        data_nr.drop(i,1,inplace=True)"
   ]
  },
  {
   "cell_type": "markdown",
   "metadata": {
    "deletable": true,
    "editable": true
   },
   "source": [
    "Se agregan las columnas en millones de pesos."
   ]
  },
  {
   "cell_type": "code",
   "execution_count": 16,
   "metadata": {
    "collapsed": false,
    "deletable": true,
    "editable": true
   },
   "outputs": [],
   "source": [
    "for i in range(len(nmes)):\n",
    "    data_nr[nmes[i][0]] =  np.array(promedio[i])/1e6\n",
    "    data_nr[nmes[i][1]] =  np.array(std_dev[i])/1e6\n",
    "    data_nr[nmes[i][2]] =  np.array(intercept[i])/1e6\n",
    "    data_nr[nmes[i][3]] =  np.array(pendiente[i])/1e6"
   ]
  },
  {
   "cell_type": "markdown",
   "metadata": {
    "collapsed": true,
    "deletable": true,
    "editable": true
   },
   "source": [
    "#### Tiempo antiguedad\n",
    "\n",
    "Puede que la cantidad de tiempo que el cliente está en el banco pueda afectar la cantidad de descuentos pedidos. \n",
    "\n",
    "Las variables asociadas serán:\n",
    "- 'año_otorg'\n",
    "- 'mes_otorg'\n",
    "- 'AÑO_APERTURA_SA'\n",
    "- 'MES_APERTURA_SA'\n",
    "\n",
    "Año y mes otorg corresponden a el año y el mes del crédito, y apertura corresponde a la fecha en la que la cuenta fue abierta. \n",
    "\n",
    "Se considerará el tiempo en meses.\n"
   ]
  },
  {
   "cell_type": "code",
   "execution_count": 17,
   "metadata": {
    "collapsed": false,
    "deletable": true,
    "editable": true
   },
   "outputs": [],
   "source": [
    "antiguedad = 12*(data_nr['año_otorg']-data_nr['AÑO_APERTURA_SA']) + data_nr['mes_otorg']-data_nr['MES_APERTURA_SA']"
   ]
  },
  {
   "cell_type": "markdown",
   "metadata": {
    "deletable": true,
    "editable": true
   },
   "source": [
    "Ahora se agrega la variable \"antiguedad\" y se eliminan las variables anteriores. "
   ]
  },
  {
   "cell_type": "code",
   "execution_count": 18,
   "metadata": {
    "collapsed": false,
    "deletable": true,
    "editable": true
   },
   "outputs": [],
   "source": [
    "data_nr= data_nr.assign(antiguedad=antiguedad.values)\n",
    "\n",
    "data_nr.drop(['año_otorg','mes_otorg','AÑO_APERTURA_SA','MES_APERTURA_SA'],1,inplace=True)"
   ]
  },
  {
   "cell_type": "markdown",
   "metadata": {
    "deletable": true,
    "editable": true
   },
   "source": [
    "Elimino '% Descuento', ya que es información que se obtiene del ajuste."
   ]
  },
  {
   "cell_type": "markdown",
   "metadata": {
    "deletable": true,
    "editable": true
   },
   "source": [
    "## Regression Random Forest \n",
    "### Objetivos\n",
    "El objetivo de este trabajo es tratar de predecir el valor de la tasa_act en base a la información del cliente. Por lo tanto, el objetivo es \"tasa_act\". \n",
    "\n",
    "Además hay que eliminar inforamción de \"tasa_1_tarifado\", \"tasa_transf\" y \"spread\", ya que es información del modelo antiguo. La variable \"tasa_1\" se usa para codificar la información del modelo anterior. En un modelo futuro se usará directamente la información de riesgo."
   ]
  },
  {
   "cell_type": "code",
   "execution_count": 19,
   "metadata": {
    "collapsed": false,
    "deletable": true,
    "editable": true
   },
   "outputs": [],
   "source": [
    "target =  data_nr['tasa_act'].as_matrix()\n",
    "data_nr.drop(['tasa_act', \"tasa_1_tarifado\", \"tasa_transf\" , \"spread\"],1,inplace=True)"
   ]
  },
  {
   "cell_type": "markdown",
   "metadata": {
    "deletable": true,
    "editable": true
   },
   "source": [
    "Elimino 'Tasa*mto', 'spread*monto' y 'margen_b'."
   ]
  },
  {
   "cell_type": "code",
   "execution_count": 20,
   "metadata": {
    "collapsed": false,
    "deletable": true,
    "editable": true
   },
   "outputs": [],
   "source": [
    "data_nr.drop(['Tasa*mto',\"Spread*mto\", \"margen_b\"],1,inplace=True)"
   ]
  },
  {
   "cell_type": "markdown",
   "metadata": {
    "deletable": true,
    "editable": true
   },
   "source": [
    "Lo transformo a float."
   ]
  },
  {
   "cell_type": "code",
   "execution_count": 21,
   "metadata": {
    "collapsed": false,
    "deletable": true,
    "editable": true
   },
   "outputs": [],
   "source": [
    "mx = data_nr.as_matrix()"
   ]
  },
  {
   "cell_type": "markdown",
   "metadata": {
    "deletable": true,
    "editable": true
   },
   "source": [
    "La matriz mx que contiene la información que se usará para el modelo final.\n"
   ]
  },
  {
   "cell_type": "code",
   "execution_count": 22,
   "metadata": {
    "collapsed": true,
    "deletable": true,
    "editable": true
   },
   "outputs": [],
   "source": [
    "rfr = RandomForestRegressor(n_estimators=1000, criterion='mse', max_depth=None, \n",
    "                            min_samples_split=10, min_samples_leaf=20, \n",
    "                            min_weight_fraction_leaf=0.0, max_features='auto', \n",
    "                            max_leaf_nodes=None, min_impurity_split=1e-07, \n",
    "                            bootstrap=True, oob_score=True, n_jobs=7, warm_start=False)"
   ]
  },
  {
   "cell_type": "code",
   "execution_count": 23,
   "metadata": {
    "collapsed": false,
    "deletable": true,
    "editable": true
   },
   "outputs": [
    {
     "data": {
      "text/plain": [
       "RandomForestRegressor(bootstrap=True, criterion='mse', max_depth=None,\n",
       "           max_features='auto', max_leaf_nodes=None,\n",
       "           min_impurity_split=1e-07, min_samples_leaf=20,\n",
       "           min_samples_split=10, min_weight_fraction_leaf=0.0,\n",
       "           n_estimators=1000, n_jobs=7, oob_score=True, random_state=None,\n",
       "           verbose=0, warm_start=False)"
      ]
     },
     "execution_count": 23,
     "metadata": {},
     "output_type": "execute_result"
    }
   ],
   "source": [
    "NN = 40000\n",
    "rfr.fit(mx[:NN,:], target[:NN])"
   ]
  },
  {
   "cell_type": "code",
   "execution_count": 36,
   "metadata": {
    "collapsed": false,
    "deletable": true,
    "editable": true
   },
   "outputs": [],
   "source": [
    "rfr_pred = rfr.predict(mx[NN:])\n"
   ]
  },
  {
   "cell_type": "markdown",
   "metadata": {
    "deletable": true,
    "editable": true
   },
   "source": [
    "Importancia de características."
   ]
  },
  {
   "cell_type": "code",
   "execution_count": 33,
   "metadata": {
    "collapsed": false,
    "deletable": true,
    "editable": true
   },
   "outputs": [
    {
     "data": {
      "text/plain": [
       "array([['0.771993204952', 'tasa_1'],\n",
       "       ['0.0555418528862', 'plazos_dias'],\n",
       "       ['0.0486897164786', 'mto_otorg'],\n",
       "       ['0.0162308199269', 'Suma Var'],\n",
       "       ['0.0113667813437', 'antiguedad'],\n",
       "       ['0.011307349066', 'MOB_Slope'],\n",
       "       ['0.00913576888649', 'MOB_Intercept'],\n",
       "       ['0.0086130376852', 'n_cuotas_pact'],\n",
       "       ['0.00833552010472', 'LdN_PAS_SM_Intercept'],\n",
       "       ['0.0083202655906', 'LdN_PAS_SM_Slope'],\n",
       "       ['0.00812861182028', '_MON_Slope'],\n",
       "       ['0.00455774013704', 'MOB_St_dev'],\n",
       "       ['0.00450129387207', 'MOB_Promedio'],\n",
       "       ['0.00418729642464', 'LdN_ACT_SM_Intercept'],\n",
       "       ['0.00412749125018', '_LdN_COMI_Slope'],\n",
       "       ['0.0039795987015', 'LdN_ACT_SM_Promedio'],\n",
       "       ['0.00395709330378', 'LdN_ACT_SM_St_dev'],\n",
       "       ['0.0033865710826', '_MON_Intercept'],\n",
       "       ['0.00293347124855', '_LdN_COMI_Intercept'],\n",
       "       ['0.00276135542788', 'LdN_ACT_SM_Slope'],\n",
       "       ['0.00151631041265', 'LdN_PAS_SM_St_dev'],\n",
       "       ['0.00148490264358', 'LdN_PAS_SM_Promedio'],\n",
       "       ['0.00127285951374', '_MON_St_dev'],\n",
       "       ['0.00126554667656', '_MON_Promedio'],\n",
       "       ['0.00122612748531', '_LdN_COMI_Promedio'],\n",
       "       ['0.00117941307976', '_LdN_COMI_St_dev']], \n",
       "      dtype='<U32')"
      ]
     },
     "execution_count": 33,
     "metadata": {},
     "output_type": "execute_result"
    }
   ],
   "source": [
    "fnl = np.asarray(list(zip(rfr.feature_importances_,list(data_nr.columns))))\n",
    "fnl[np.flip(fnl[:,0].argsort(axis=0),0),:]"
   ]
  },
  {
   "cell_type": "markdown",
   "metadata": {
    "deletable": true,
    "editable": true
   },
   "source": [
    "### Evaluación \n",
    "\n",
    "Los criterios para evaluar serán \"Root Mean Squared Error\" y \"R^2\". \n",
    "\n",
    "El primero indica la desviación del modelo de los datos, y el segundo el ajuste general de la regresión.\n",
    "\n",
    "Tenemos que los valores para el modelo actual son de:"
   ]
  },
  {
   "cell_type": "code",
   "execution_count": 37,
   "metadata": {
    "collapsed": false,
    "deletable": true,
    "editable": true
   },
   "outputs": [
    {
     "data": {
      "text/plain": [
       "0.25363542473053596"
      ]
     },
     "execution_count": 37,
     "metadata": {},
     "output_type": "execute_result"
    }
   ],
   "source": [
    "np.sqrt(mean_squared_error(target[NN:],data_nr['tasa_1'][NN:]))"
   ]
  },
  {
   "cell_type": "code",
   "execution_count": 40,
   "metadata": {
    "collapsed": false,
    "deletable": true,
    "editable": true
   },
   "outputs": [
    {
     "data": {
      "text/plain": [
       "0.38076639931915712"
      ]
     },
     "execution_count": 40,
     "metadata": {},
     "output_type": "execute_result"
    }
   ],
   "source": [
    "r2_score(target[NN:],data_nr['tasa_1'][NN:])"
   ]
  },
  {
   "cell_type": "markdown",
   "metadata": {
    "deletable": true,
    "editable": true
   },
   "source": [
    "Mientras que para los obtenido con el modelo son:"
   ]
  },
  {
   "cell_type": "code",
   "execution_count": 41,
   "metadata": {
    "collapsed": false,
    "deletable": true,
    "editable": true
   },
   "outputs": [
    {
     "data": {
      "text/plain": [
       "0.19359145667468308"
      ]
     },
     "execution_count": 41,
     "metadata": {},
     "output_type": "execute_result"
    }
   ],
   "source": [
    "np.sqrt(mean_squared_error(target[NN:],rfr_pred))"
   ]
  },
  {
   "cell_type": "code",
   "execution_count": 42,
   "metadata": {
    "collapsed": false,
    "deletable": true,
    "editable": true
   },
   "outputs": [
    {
     "data": {
      "text/plain": [
       "0.63924939480621845"
      ]
     },
     "execution_count": 42,
     "metadata": {},
     "output_type": "execute_result"
    }
   ],
   "source": [
    "r2_score(target[NN:],rfr_pred)"
   ]
  },
  {
   "cell_type": "markdown",
   "metadata": {
    "collapsed": false,
    "deletable": true,
    "editable": true
   },
   "source": [
    "### Histogramas"
   ]
  },
  {
   "cell_type": "code",
   "execution_count": 95,
   "metadata": {
    "collapsed": false,
    "deletable": true,
    "editable": true
   },
   "outputs": [
    {
     "data": {
      "image/png": "[encoded data removed]",
      "text/plain": [
       "<matplotlib.figure.Figure at 0x7f7148291ac8>"
      ]
     },
     "metadata": {},
     "output_type": "display_data"
    }
   ],
   "source": [
    "# n, bins, patches = plt.hist(target[NN:]-data_nr['tasa_1'][NN:], 200, normed=0, facecolor='green', alpha=0.75)\n",
    "n, bins, patches = plt.hist(target-data_nr['tasa_1'], 200, normed=0\n",
    "                            , facecolor='green', alpha=0.75)\n",
    "plt.xlabel('Diferencia')\n",
    "plt.ylabel('Frecuencia')\n",
    "plt.title('Diferencia Observado y modelo')\n",
    "# plt.axis([40, 160, 0, 0.03])\n",
    "# plt.grid(True)\n",
    "plt.xlim(-1,1)\n",
    "plt.show()"
   ]
  },
  {
   "cell_type": "code",
   "execution_count": 89,
   "metadata": {
    "collapsed": false,
    "deletable": true,
    "editable": true
   },
   "outputs": [
    {
     "data": {
      "image/png": "[encoded data removed]",
      "text/plain": [
       "<matplotlib.figure.Figure at 0x7f7146a48240>"
      ]
     },
     "metadata": {},
     "output_type": "display_data"
    }
   ],
   "source": [
    "n, bins, patches = plt.hist(target[NN:]-rfr_pred, 'auto', normed=0\n",
    "                            , facecolor='green', alpha=0.75,align='mid')\n",
    "\n",
    "plt.xlabel('Diferencia')\n",
    "plt.ylabel('Frecuencia')\n",
    "plt.title('Diferencia Observado y nuevo modelo')\n",
    "# plt.axis([40, 160, 0, 0.03])\n",
    "# plt.grid(True)\n",
    "plt.xlim(-1,1)\n",
    "plt.show()"
   ]
  },
  {
   "cell_type": "markdown",
   "metadata": {
    "deletable": true,
    "editable": true
   },
   "source": [
    "Falta inforporar nuevas características y estudiar el impacto de este modelo sobre los ingresos del banco."
   ]
  },
  {
   "cell_type": "code",
   "execution_count": 96,
   "metadata": {
    "collapsed": true,
    "deletable": true,
    "editable": true
   },
   "outputs": [],
   "source": [
    "import pickle"
   ]
  },
  {
   "cell_type": "code",
   "execution_count": 97,
   "metadata": {
    "collapsed": true,
    "deletable": true,
    "editable": true
   },
   "outputs": [],
   "source": [
    "pickle.dump( data_nr, open( \"data_nr.p\", \"wb\" ) )\n",
    "pickle.dump( rfr, open( \"rfr.p\", \"wb\" ) )"
   ]
  },
  {
   "cell_type": "code",
   "execution_count": null,
   "metadata": {
    "collapsed": true,
    "deletable": true,
    "editable": true
   },
   "outputs": [],
   "source": []
  }
 ],
 "metadata": {
  "kernelspec": {
   "display_name": "Python 3",
   "language": "python",
   "name": "python3"
  },
  "language_info": {
   "codemirror_mode": {
    "name": "ipython",
    "version": 3
   },
   "file_extension": ".py",
   "mimetype": "text/x-python",
   "name": "python",
   "nbconvert_exporter": "python",
   "pygments_lexer": "ipython3",
   "version": "3.5.2"
  }
 },
 "nbformat": 4,
 "nbformat_minor": 0
}
