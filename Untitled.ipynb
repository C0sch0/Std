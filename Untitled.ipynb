{
 "cells": [
  {
   "cell_type": "code",
   "execution_count": null,
   "metadata": {
    "collapsed": true
   },
   "outputs": [],
   "source": [
    "import pandas\n",
    "import numpy as np"
   ]
  },
  {
   "cell_type": "code",
   "execution_count": null,
   "metadata": {
    "collapsed": false
   },
   "outputs": [],
   "source": [
    "data = pandas.read_csv('Proyecto_PreciosPyme_Base1.csv',header=0,sep=';',low_memory=False)"
   ]
  },
  {
   "cell_type": "code",
   "execution_count": null,
   "metadata": {
    "collapsed": false,
    "scrolled": true
   },
   "outputs": [],
   "source": [
    "data.head()"
   ]
  },
  {
   "cell_type": "markdown",
   "metadata": {},
   "source": [
    "Elimino los registros que no tienen el % de descuento, para evitar errores. Son menos de mil por lo que no habría problema."
   ]
  },
  {
   "cell_type": "code",
   "execution_count": null,
   "metadata": {
    "collapsed": false
   },
   "outputs": [],
   "source": [
    "data = data.loc[data['% Descuento']!='Err:512']\n",
    "data = data.loc[data['MON PROM']!='Err:512']\n"
   ]
  },
  {
   "cell_type": "markdown",
   "metadata": {},
   "source": [
    "Cambio var pos neg a variable numerica para que pueda ser operado por scikitlearn."
   ]
  },
  {
   "cell_type": "code",
   "execution_count": null,
   "metadata": {
    "collapsed": false
   },
   "outputs": [],
   "source": [
    "data['Var pos neg'].replace('POSIT',1,inplace=True)\n",
    "data['Var pos neg'].replace('NEG',-1,inplace=True)"
   ]
  },
  {
   "cell_type": "markdown",
   "metadata": {},
   "source": [
    "Como nos interesa hacer una regresión, valores categóricos no son de mucha utilidad. Además de los nombres e identificadores que tienen que ser removidos."
   ]
  },
  {
   "cell_type": "code",
   "execution_count": null,
   "metadata": {
    "collapsed": true
   },
   "outputs": [],
   "source": [
    "data2 = data.copy()"
   ]
  },
  {
   "cell_type": "markdown",
   "metadata": {},
   "source": [
    "tasa_act es lo que se cobro efectivamente, y tasa_1 es lo que fijo el modelo."
   ]
  },
  {
   "cell_type": "code",
   "execution_count": null,
   "metadata": {
    "collapsed": false
   },
   "outputs": [],
   "source": [
    "col_del = ['Periodo','fec_info','rut_clie','nom_clie','cli_cat','nom_cli_cat','id_univ','cli_cat_sub','nom_sub_cat',\n",
    "          'fec_otorg','zona_nueva','Zonal','grp_suc','cod_ctr','rut_ejec_gest','nom_ejec_gest','cargo_ejec_gest_rrhh',\n",
    "           'cargo_conc_gest','suc_gest_ejec','nom_suc_gest','zona_nueva_gest','id_orden_prod','id_prod_conc',\n",
    "           'plazo','tramo','tipo_flujo','fecha_otorgamiento','prod_gsc','peso_ctr','plan','concepto_especifico',\n",
    "           'GLOSA CODIGO ACTIVIDAD BANCO','GLOSA ACTIVIDAD CIIU','RUT_CORTO',\n",
    "           'Octubre 2015_IND_CTA_CTA','Noviembre 2015_IND_CTA_CTA','Diciembre 2015_IND_CTA_CTA','Enero 2016_IND_CTA_CTA',\n",
    "           'Febrero 2016_IND_CTA_CTA','Marzo 2016_IND_CTA_CTA','Abril 2016_IND_CTA_CTA','Mayo 2016_IND_CTA_CTA','Junio 2016_IND_CTA_CTA',\n",
    "           'Julio 2016_IND_CTA_CTA','Agosto 2016_IND_CTA_CTA','FAM_201609_IND_CTA_CTA','FAM_201610_IND_CTA_CTA','FAM_201611_IND_CTA_CTA',\n",
    "           'FAM_201612_IND_CTA_CTA','FAM_201701_IND_CTA_CTA','FAM_201702_IND_CTA_CTA',\n",
    "          'Tramo Tasa','Tramo ACTSM1','Tramo ACTSM2','Tramo ACTSM3','Tramo ACTSM4','Tramo ACTSM5','Tramo ACTSM6','Tramo ACTSM7',\n",
    "           'Tramo ACTSM8','Tramo ACTSM9','Tramo ACTSM10','Tramo ACTSM11','Tramo ACTSM12','Tramo ACTSM13','Tramo ACTSM14','Tramo ACTSM15',\n",
    "           'Tramo ACTSM16','Tramo ACTSM17','CONCSMACT','Media_SM','Var pos neg'\n",
    "           ,'opers','año_otorg','mes_otorg','dia_otorg','cta_actual','extin_cdto',\n",
    "           'id_plazo','id_tramo','id_tasa','NOM_GRP','grp','tasa_0',\n",
    "           'modelo_id_riesgo','perfil_riesgo','ajuste_max','descuento','plazo_meses',\n",
    "          'Marca_Conta','Marca_Campaña','Marca_Renegociados','Marca_Alivio','Marca_Carterizado','MarcaCanal','MarcaFFVV'\n",
    "           ,'MES_APERTURA_SA'\n",
    "]\n",
    "\n",
    "data3 = data2.drop(col_del,1)"
   ]
  },
  {
   "cell_type": "code",
   "execution_count": null,
   "metadata": {
    "collapsed": false
   },
   "outputs": [],
   "source": [
    "data3.head()"
   ]
  },
  {
   "cell_type": "code",
   "execution_count": null,
   "metadata": {
    "collapsed": false
   },
   "outputs": [],
   "source": [
    "set(data3['Tipo_conta'])"
   ]
  },
  {
   "cell_type": "code",
   "execution_count": null,
   "metadata": {
    "collapsed": false
   },
   "outputs": [],
   "source": [
    "data_mx = data3.loc[data3['Tipo_conta']=='Mx']\n",
    "data_uf = data3.loc[data3['Tipo_conta']=='uf']\n",
    "data_nr = data3.loc[data3['Tipo_conta']=='nr']"
   ]
  },
  {
   "cell_type": "code",
   "execution_count": null,
   "metadata": {
    "collapsed": false
   },
   "outputs": [],
   "source": [
    "print(data_mx.shape,data_uf.shape,data_nr.shape)"
   ]
  },
  {
   "cell_type": "markdown",
   "metadata": {},
   "source": [
    "Voy a elegir los créditos en pesos ya que son más y así limito el scope de la solución. Después se podrá trabajar en una solución más general."
   ]
  },
  {
   "cell_type": "code",
   "execution_count": null,
   "metadata": {
    "collapsed": false
   },
   "outputs": [],
   "source": [
    "data_nr = data_nr.drop(['Tipo_conta','tipo_camb_reaj','tipo_camb_mx'],1)"
   ]
  },
  {
   "cell_type": "code",
   "execution_count": null,
   "metadata": {
    "collapsed": false
   },
   "outputs": [],
   "source": [
    "data_nr.head()"
   ]
  },
  {
   "cell_type": "markdown",
   "metadata": {},
   "source": [
    "## Objetivos\n",
    "Ahora, el objetivo de este trabajo es tratar de predecir el valor de la tasa_act en base a la información del cliente. Por lo tanto, el objetivo es \"tasa_act\". Además hay que eliminar inforamción de \"tasa_1\", \"tasa_1_tarifado\", \"tasa_transf\" y \"spread\", ya que es información del modelo antiguo."
   ]
  },
  {
   "cell_type": "code",
   "execution_count": null,
   "metadata": {
    "collapsed": false
   },
   "outputs": [],
   "source": [
    "target =  data_nr['tasa_act'].as_matrix()\n",
    "data_nr.drop(['tasa_act',\"tasa_1\", \"tasa_1_tarifado\", \"tasa_transf\" , \"spread\"],1,inplace=True)"
   ]
  },
  {
   "cell_type": "code",
   "execution_count": null,
   "metadata": {
    "collapsed": false
   },
   "outputs": [],
   "source": [
    "mx = data_nr.as_matrix()"
   ]
  },
  {
   "cell_type": "markdown",
   "metadata": {},
   "source": [
    "Elimino el simbolo de % de la columna"
   ]
  },
  {
   "cell_type": "code",
   "execution_count": null,
   "metadata": {
    "collapsed": true
   },
   "outputs": [],
   "source": [
    "#Indice de la variable '% descuento'\n",
    "ind_perc = np.argmax((data_nr.columns=='% Descuento')*1) \n",
    "#Lo reemplazo\n",
    "mx[:,ind_perc] = np.chararray.replace(np.asarray(mx[:,ind_perc],dtype=str),'%','')"
   ]
  },
  {
   "cell_type": "markdown",
   "metadata": {},
   "source": [
    "Lo transformo a float."
   ]
  },
  {
   "cell_type": "code",
   "execution_count": null,
   "metadata": {
    "collapsed": false
   },
   "outputs": [],
   "source": [
    "mx2 = np.asarray(mx,dtype=float)"
   ]
  },
  {
   "cell_type": "markdown",
   "metadata": {},
   "source": [
    "Al parecer hay varios elementos nan en la matriz. Por simplicidad los eliminaré."
   ]
  },
  {
   "cell_type": "code",
   "execution_count": null,
   "metadata": {
    "collapsed": false
   },
   "outputs": [],
   "source": [
    "del_ = []\n",
    "for i in range(mx2.shape[0]):\n",
    "    if(np.count_nonzero(np.isnan(mx2[i,:]))==0):\n",
    "        continue\n",
    "    del_.append(i)\n",
    "    \n",
    "mx2 = np.delete(mx2,del_,axis=0)    \n",
    "target = np.delete(target,del_,axis=0)"
   ]
  },
  {
   "cell_type": "code",
   "execution_count": null,
   "metadata": {
    "collapsed": false
   },
   "outputs": [],
   "source": [
    "mx2.shape"
   ]
  },
  {
   "cell_type": "code",
   "execution_count": null,
   "metadata": {
    "collapsed": false
   },
   "outputs": [],
   "source": [
    "target.shape"
   ]
  },
  {
   "cell_type": "markdown",
   "metadata": {},
   "source": [
    "Finalmente, tenemos la matriz mx2 que contiene la información de todas las featurs, sin identificadores, sin información de los ejecutivos, fecha o indices de algún tipo.\n",
    "\n",
    "Ahora, se hará una regresión LASSO, para tratar de expicar las tasas con la menor cantidad de features posible,"
   ]
  },
  {
   "cell_type": "code",
   "execution_count": null,
   "metadata": {
    "collapsed": true
   },
   "outputs": [],
   "source": [
    "from sklearn import linear_model\n"
   ]
  },
  {
   "cell_type": "code",
   "execution_count": null,
   "metadata": {
    "collapsed": true
   },
   "outputs": [],
   "source": [
    "reg = linear_model.Lasso(alpha = 0.05,max_iter=5000000, tol=0.00001,precompute=True,warm_start=True,\n",
    "                        normalize=False)"
   ]
  },
  {
   "cell_type": "code",
   "execution_count": null,
   "metadata": {
    "collapsed": false
   },
   "outputs": [],
   "source": [
    "NN = 50000\n",
    "reg.fit(mx2[:NN,:], target[:NN])\n"
   ]
  },
  {
   "cell_type": "code",
   "execution_count": null,
   "metadata": {
    "collapsed": false
   },
   "outputs": [],
   "source": [
    "pred = reg.predict(mx2[NN:])"
   ]
  },
  {
   "cell_type": "code",
   "execution_count": null,
   "metadata": {
    "collapsed": false
   },
   "outputs": [],
   "source": [
    "reg.score(mx2[NN:],target[NN:])"
   ]
  },
  {
   "cell_type": "code",
   "execution_count": null,
   "metadata": {
    "collapsed": false
   },
   "outputs": [],
   "source": [
    "pred"
   ]
  },
  {
   "cell_type": "code",
   "execution_count": null,
   "metadata": {
    "collapsed": false
   },
   "outputs": [],
   "source": [
    "target[NN:]"
   ]
  },
  {
   "cell_type": "code",
   "execution_count": null,
   "metadata": {
    "collapsed": false
   },
   "outputs": [],
   "source": [
    "alfs = np.asarray(range(1,50,2))/100\n",
    "reg_cv = linear_model.LassoCV(alphas=alfs,max_iter=100000,tol=1e-4,precompute=True,normalize=False\n",
    "                              ,cv=5\n",
    "                             ,n_jobs=7)"
   ]
  },
  {
   "cell_type": "code",
   "execution_count": null,
   "metadata": {
    "collapsed": false
   },
   "outputs": [],
   "source": [
    "NN = 50000\n",
    "reg_cv.fit(mx2[:NN,:], target[:NN])"
   ]
  },
  {
   "cell_type": "code",
   "execution_count": null,
   "metadata": {
    "collapsed": false
   },
   "outputs": [],
   "source": [
    "reg_cv.score(mx2[NN:],target[NN:])"
   ]
  },
  {
   "cell_type": "code",
   "execution_count": null,
   "metadata": {
    "collapsed": false
   },
   "outputs": [],
   "source": []
  },
  {
   "cell_type": "code",
   "execution_count": null,
   "metadata": {
    "collapsed": true
   },
   "outputs": [],
   "source": [
    "from sklearn.linear_model import ElasticNet"
   ]
  },
  {
   "cell_type": "code",
   "execution_count": null,
   "metadata": {
    "collapsed": true
   },
   "outputs": [],
   "source": [
    "reg2 = ElasticNet(alpha=0.35, l1_ratio=0.7, fit_intercept=True, normalize=False, precompute=True,\n",
    "                  max_iter=500000, tol=0.0001, warm_start=True)"
   ]
  },
  {
   "cell_type": "code",
   "execution_count": null,
   "metadata": {
    "collapsed": false
   },
   "outputs": [],
   "source": [
    "NN = 50000\n",
    "reg2.fit(mx2[:NN,:], target[:NN])"
   ]
  },
  {
   "cell_type": "code",
   "execution_count": null,
   "metadata": {
    "collapsed": false
   },
   "outputs": [],
   "source": [
    "reg2.score(mx2[NN:],target[NN:])"
   ]
  },
  {
   "cell_type": "code",
   "execution_count": null,
   "metadata": {
    "collapsed": true
   },
   "outputs": [],
   "source": []
  }
 ],
 "metadata": {
  "kernelspec": {
   "display_name": "Python 3",
   "language": "python",
   "name": "python3"
  },
  "language_info": {
   "codemirror_mode": {
    "name": "ipython",
    "version": 3
   },
   "file_extension": ".py",
   "mimetype": "text/x-python",
   "name": "python",
   "nbconvert_exporter": "python",
   "pygments_lexer": "ipython3",
   "version": "3.4.3"
  }
 },
 "nbformat": 4,
 "nbformat_minor": 0
}
